{
 "cells": [
  {
   "cell_type": "markdown",
   "id": "d87e0318-fbcf-49f7-af9c-7069f274c4b1",
   "metadata": {},
   "source": [
    "# Retail Sales Data - Classification Analysis\n",
    "\n",
    "To build a classification model based on the Superstore dataset for deriving business insights and making predictions.\n",
    "\n",
    "**Business Problem:**\n",
    "\n",
    "The company wants to identify customers who are likely to generate high profit versus those who generate low or negative profit. This classification can help in targeting high-value customers for loyalty programs or optimizing marketing spend.\n",
    "\n",
    "**Project Objective:**\n",
    "\n",
    "Build a classification model that predicts whether a customer is **Profitable** or **Not Profitable** based on historical purchase data.\n",
    "\n",
    "**Target Variable:**\n",
    "\n",
    "A new column <code>Profitable_Customer</code> (1 = Profitable, 0 = Not Profitable), derived from the <code>Profit</code> column.\n",
    "\n",
    "Key Deliverables:\n",
    "- Data cleaning & preparation\n",
    "- Feature engineering\n",
    "- Exploratory data analysis (EDA)\n",
    "- Classification model building\n",
    "- Model evaluation\n",
    "- Insights & recommendations"
   ]
  },
  {
   "cell_type": "code",
   "execution_count": null,
   "id": "b82147ca-312c-4ab6-a85c-e9c420d28b72",
   "metadata": {},
   "outputs": [],
   "source": [
    "!pip install pandas numpy matplotlib seaborn scikit-learn"
   ]
  },
  {
   "cell_type": "markdown",
   "id": "484630e3-3950-498d-9bd4-e1153658cb77",
   "metadata": {},
   "source": [
    "## Phase 1: Data Collection & Understanding\n",
    "### Step1: Importing Required Libraries\n",
    "We begin by importing the essential libraries for data manipulation, visualization, and building our machine learning model"
   ]
  },
  {
   "cell_type": "code",
   "execution_count": null,
   "id": "f15a7acd-ec30-4157-8f68-7c63da9e4dc7",
   "metadata": {},
   "outputs": [],
   "source": [
    "# Import essential libraries\n",
    "import pandas as pd\n",
    "import numpy as np\n",
    "import matplotlib.pyplot as plt\n",
    "import seaborn as sns\n",
    "\n",
    "# For machine learning and preprocessing\n",
    "from sklearn.model_selection import train_test_split\n",
    "from sklearn.preprocessing import LabelEncoder\n",
    "from sklearn.ensemble import RandomForestClassifier\n",
    "from sklearn.metrics import accuracy_score, classification_report, confusion_matrix"
   ]
  },
  {
   "cell_type": "markdown",
   "id": "2bdc20a6-1543-43d8-b120-940c4eb83074",
   "metadata": {},
   "source": [
    "### Step 2: Load the Dataset"
   ]
  },
  {
   "cell_type": "code",
   "execution_count": null,
   "id": "0cb5cc74-a4eb-4686-8c3e-8bc02d9e0c42",
   "metadata": {},
   "outputs": [],
   "source": [
    "url = 'https://raw.githubusercontent.com/harsh-aithal/Retail-Sales-Analysis-DS-Project/main/data/superstore_data.csv'\n",
    "df=pd.read_csv(url, encoding='ISO-8859-1')\n",
    "df.head()"
   ]
  },
  {
   "cell_type": "markdown",
   "id": "902fbffa-2ad8-4a80-9463-96ca98263db6",
   "metadata": {},
   "source": [
    "### Step 3: Basic Info Check"
   ]
  },
  {
   "cell_type": "code",
   "execution_count": null,
   "id": "6c6bb476-7e05-4395-879d-d319b7343303",
   "metadata": {},
   "outputs": [],
   "source": [
    "df.shape  # Check rows and columns"
   ]
  },
  {
   "cell_type": "code",
   "execution_count": null,
   "id": "902e1a62-76b9-417d-aa12-6713f928abb3",
   "metadata": {},
   "outputs": [],
   "source": [
    "df.info()  # Data types and nulls"
   ]
  },
  {
   "cell_type": "code",
   "execution_count": null,
   "id": "28e01956-2fa7-4f69-bda6-bd138afc9e61",
   "metadata": {},
   "outputs": [],
   "source": [
    "df.describe()  # Stats summary"
   ]
  },
  {
   "cell_type": "code",
   "execution_count": null,
   "id": "e7ad3d91-0a92-4dde-9e9b-89bf3c8fe41a",
   "metadata": {},
   "outputs": [],
   "source": [
    "df.isnull().sum()  # Total nulls"
   ]
  },
  {
   "cell_type": "code",
   "execution_count": null,
   "id": "84ef51b8-95c1-4e98-a89f-052683d98186",
   "metadata": {},
   "outputs": [],
   "source": [
    "df.duplicated().sum()  # Check for duplicates"
   ]
  },
  {
   "cell_type": "markdown",
   "id": "8b18bffa-91d6-40a0-93b9-46c0e56899a6",
   "metadata": {},
   "source": [
    "## Phase 2: Data Cleaning & Preparation\n",
    "\n",
    "### Step 1: Drop Unnecessary Columns\n",
    "\n",
    "Some columns won't help us in prediction, like <code>Row ID, Customer Name, Postal Code, Country, Product ID,</code> etc. We'll drop them to simplify the model."
   ]
  },
  {
   "cell_type": "code",
   "execution_count": null,
   "id": "15f5b481-2299-4f2e-a293-ccea5ff9cdfb",
   "metadata": {},
   "outputs": [],
   "source": [
    "df.drop(['Row ID', 'Customer Name', 'Postal Code', 'Country', 'Product ID'], axis=1, inplace=True)"
   ]
  },
  {
   "cell_type": "markdown",
   "id": "310a3a5e-875e-4f0a-8f64-00727d7fe8e3",
   "metadata": {},
   "source": [
    "### Step 2: Convert Date Columns to DateTime Format"
   ]
  },
  {
   "cell_type": "code",
   "execution_count": null,
   "id": "b5648e0b-e74d-4026-814b-e2e272a15d0c",
   "metadata": {},
   "outputs": [],
   "source": [
    "df['Order Date'] = pd.to_datetime(df['Order Date'], format = 'mixed')\n",
    "df['Ship Date'] = pd.to_datetime(df['Ship Date'], format = 'mixed')"
   ]
  },
  {
   "cell_type": "markdown",
   "id": "a4fc26e1-cc5d-4127-8fa4-21834f0f767d",
   "metadata": {},
   "source": [
    "### Step 3: Feature Engineering - Create New Features"
   ]
  },
  {
   "cell_type": "code",
   "execution_count": null,
   "id": "9e4ea1c5-5186-4161-80b4-2ab3b76955c2",
   "metadata": {},
   "outputs": [],
   "source": [
    "df['Order Month'] = df['Order Date'].dt.month\n",
    "df['Order Day'] = df['Order Date'].dt.day\n",
    "df['Order Weekday'] = df['Order Date'].dt.weekday\n",
    "df['Shipping Duration'] = (df['Ship Date'] - df['Order Date']).dt.days"
   ]
  },
  {
   "cell_type": "markdown",
   "id": "dcb433e3-8226-4d2e-9a36-34788bbfbe4f",
   "metadata": {},
   "source": [
    "### Step 4: Encode Categorical Variables\n",
    "Let's convert the categorical aolumns into numbers using label encoding (for now; we'll explore alternatives later)."
   ]
  },
  {
   "cell_type": "code",
   "execution_count": null,
   "id": "2a8f75c7-f0e8-41ce-bd75-e756ebf785f5",
   "metadata": {},
   "outputs": [],
   "source": [
    "le = LabelEncoder()\n",
    "categorical_cols = ['Order ID', 'Ship Mode', 'Customer ID', 'Segment', 'City', 'State', 'Region', 'Category', 'Sub-Category', 'Product Name']\n",
    "\n",
    "for col in categorical_cols:\n",
    "    df[col] = le.fit_transform(df[col])"
   ]
  },
  {
   "cell_type": "markdown",
   "id": "fb82aff8-148d-4bbe-bb38-763929fe71b0",
   "metadata": {},
   "source": [
    "### Step 5: Defince Target Column\n",
    "\n",
    "We'll be doing classification. Let's use **Profitable vs Non-Profitable** as our classification target:"
   ]
  },
  {
   "cell_type": "code",
   "execution_count": null,
   "id": "f7c33e50-3fb8-4a0e-aa54-10d9c5d29a4b",
   "metadata": {},
   "outputs": [],
   "source": [
    "df['Profitable'] = df['Profit'].apply(lambda x: 1 if x > 0 else 0)"
   ]
  },
  {
   "cell_type": "markdown",
   "id": "e954ec5b-2b3f-4a67-a930-bdb82890b802",
   "metadata": {},
   "source": [
    "Now <code>Profitable</code> will be your target, and the rest will be your features."
   ]
  },
  {
   "cell_type": "markdown",
   "id": "9f327281-ecb1-45be-8b4c-1fb1fec2e3d4",
   "metadata": {},
   "source": [
    "## Phase 3: Model Building & Evaluation\n",
    "### Step 1: Feature Selection & Splitting\n",
    "- Dropped irrelevant columns: <code>Order ID</code>, <code>Customer ID</code>, <code>Product Name</code>, <code>Profit</code>, <code>Order Date</code>, <code>Ship Date</code>\n",
    "- Defined X (features) and y (target:<code>Profitable</code>)"
   ]
  },
  {
   "cell_type": "code",
   "execution_count": null,
   "id": "d1c53188-5c4e-44f4-a8ed-02f208c95333",
   "metadata": {},
   "outputs": [],
   "source": [
    "df_model = df.drop(['Order ID', 'Customer ID', 'Product Name', 'Profit'], axis=1)\n",
    "df_model = df_model.drop(['Order Date', 'Ship Date'], axis=1)\n",
    "\n",
    "X = df_model.drop('Profitable', axis=1)\n",
    "y = df_model['Profitable']"
   ]
  },
  {
   "cell_type": "markdown",
   "id": "fb30c832-8d9e-4f37-9360-561e91492764",
   "metadata": {},
   "source": [
    "### Step 2: Train-Test Split"
   ]
  },
  {
   "cell_type": "code",
   "execution_count": null,
   "id": "974414b8-741a-4454-9a5e-7159c8793385",
   "metadata": {},
   "outputs": [],
   "source": [
    "X_train, X_test, y_train, y_test = train_test_split(X, y, test_size=0.2, random_state=42)"
   ]
  },
  {
   "cell_type": "markdown",
   "id": "05c0ca26-a1c8-43a9-8630-c08ef8527903",
   "metadata": {},
   "source": [
    "### Step 3: Model Training (Random Forest Classifier)"
   ]
  },
  {
   "cell_type": "code",
   "execution_count": null,
   "id": "ba339171-dad1-466b-8fb0-1c48656383e6",
   "metadata": {},
   "outputs": [],
   "source": [
    "rf_model = RandomForestClassifier(random_state=42)\n",
    "rf_model.fit(X_train, y_train)"
   ]
  },
  {
   "cell_type": "markdown",
   "id": "b98be0c3-db05-4ec1-9f5f-a126fb826b73",
   "metadata": {},
   "source": [
    "### Step 4: Model Evaluation"
   ]
  },
  {
   "cell_type": "code",
   "execution_count": null,
   "id": "90a746f9-d70f-4bf5-b74a-1aca1655c3fd",
   "metadata": {},
   "outputs": [],
   "source": [
    "y_pred = rf_model.predict(X_test)\n",
    "\n",
    "print(\"Accuracy:\", accuracy_score(y_test,y_pred))\n",
    "print(\"\\nConfusion Matrix:\\n\", confusion_matrix(y_test,y_pred))\n",
    "print(\"\\nClassification Report:\\n\", classification_report(y_test,y_pred))"
   ]
  },
  {
   "cell_type": "markdown",
   "id": "9a0109b4-3d95-44f9-81a6-7c9bc7623ec9",
   "metadata": {},
   "source": [
    "**Output:**\n",
    "- **Accuracy: ~94.7%**\n",
    "- Very high precision & recall for predicting profitable transactions."
   ]
  },
  {
   "cell_type": "markdown",
   "id": "252d9377-7437-45e3-9d46-64a6bbcb3572",
   "metadata": {},
   "source": [
    "### Step 5: Feature Importance Visualizations"
   ]
  },
  {
   "cell_type": "code",
   "execution_count": null,
   "id": "fa6425f2-415f-4f4b-b932-77cbf81b44bb",
   "metadata": {},
   "outputs": [],
   "source": [
    "importances = rf_model.feature_importances_\n",
    "features = X.columns\n",
    "\n",
    "feature_importance_df = pd.DataFrame({'Feature': features, 'Importance': importances})\n",
    "feature_importance_df = feature_importance_df.sort_values(by='Importance', ascending=False)\n",
    "\n",
    "plt.figure(figsize=(10,6))\n",
    "sns.barplot(x='Importance', y='Feature', data=feature_importance_df)\n",
    "plt.title('Feature Importance from Random Forest')\n",
    "plt.tight_layout()\n",
    "plt.show()"
   ]
  },
  {
   "cell_type": "markdown",
   "id": "7d902f1c-db5c-4268-a967-d7bdf9796625",
   "metadata": {},
   "source": [
    "**Key Observations:**\n",
    "- Features like <code>Sales</code>, <code>Discount</code>, <code>Shipping Duration</code>, and <code>Order Month</code> were top contributors to model predictions.\n",
    "- Model is highly accurate, especially in predicting profitable orders."
   ]
  },
  {
   "cell_type": "markdown",
   "id": "4236b693-97c2-4895-8dab-6d2963f1e7b5",
   "metadata": {},
   "source": [
    "## Phase 4: Insights and Reccendations\n",
    "#### Objective:\n",
    "Draw actionable business insights from the analysis and model results to help improve profitability."
   ]
  },
  {
   "cell_type": "markdown",
   "id": "a2ea12fd-a96b-4e8f-82cb-3579d27c2c46",
   "metadata": {},
   "source": [
    "### Step 1: Review Feature Importance Again\n",
    "\n",
    "Look at the top features influencing profitability. You already saw them in the bar plot.\n",
    "- High <code>Sales</code> and <code>Shipping Duration</code> negatively affect profitability\n",
    "- <code>Discount</code> also plays a major role — too much discount reduces profit\n",
    "- <code>Order Month</code>, <code>Region</code>, <code>Category</code> affect patterns in profit"
   ]
  },
  {
   "cell_type": "markdown",
   "id": "131e9dbf-385e-429d-a77a-6552f8a53f8e",
   "metadata": {},
   "source": [
    "### Step 2: Deep Dive into Key Business Insights\n",
    "\n",
    "Use basic visualizations to derive real-world insights:"
   ]
  },
  {
   "cell_type": "markdown",
   "id": "e3a29d64-edfe-45f2-aae7-7c0cc4320d64",
   "metadata": {},
   "source": [
    "#### Insight 1: High Discount Hurt Profitability"
   ]
  },
  {
   "cell_type": "code",
   "execution_count": null,
   "id": "7efdda1c-94bb-40c1-b326-0065c0ed3ea7",
   "metadata": {},
   "outputs": [],
   "source": [
    "plt.figure(figsize=(6,4))\n",
    "sns.boxplot(x='Profitable', y='Discount', data=df)\n",
    "plt.title('Discount vs Profitability')\n",
    "plt.show()"
   ]
  },
  {
   "cell_type": "markdown",
   "id": "8bb2aa6d-fe43-4236-b646-5e16b6aa9869",
   "metadata": {},
   "source": [
    "**Observation:** Non-profitable orders usually have much higher discounts.\n",
    "\n",
    "**Recommendation:**\n",
    "Limit high discounts — especially on low-margin products."
   ]
  },
  {
   "cell_type": "markdown",
   "id": "11542e6c-9ccf-4713-9730-d359274d5759",
   "metadata": {},
   "source": [
    "#### Insight 2: Long Shipping Duration = Less Profit"
   ]
  },
  {
   "cell_type": "code",
   "execution_count": null,
   "id": "04956166-cfb4-44b6-9bd0-ef2b4a9d4143",
   "metadata": {},
   "outputs": [],
   "source": [
    "plt.figure(figsize=(6,4))\n",
    "sns.boxplot(x='Profitable', y='Shipping Duration', data=df)\n",
    "plt.title('Shipping Duration vs Profitability')\n",
    "plt.show()"
   ]
  },
  {
   "cell_type": "markdown",
   "id": "30100978-ea56-4ac3-9551-b417bf3fee59",
   "metadata": {},
   "source": [
    "**Observation:** Orders that took longer to ship were more likely to be unprofitable.\n",
    "\n",
    "**Recommendation:**\n",
    "Optimize logistics and partner with faster delivery services in regions with long shipping delays."
   ]
  },
  {
   "cell_type": "markdown",
   "id": "4572d527-62c6-4aa5-a905-fd1a7f97fc33",
   "metadata": {},
   "source": [
    "#### Insight 3: Certain Categories Have More Losses"
   ]
  },
  {
   "cell_type": "code",
   "execution_count": null,
   "id": "b5440437-d88a-410e-8802-c5933775d526",
   "metadata": {},
   "outputs": [],
   "source": [
    "category_profit = df.groupby('Category')['Profitable'].mean().sort_values()\n",
    "\n",
    "category_profit.plot(kind='bar', figsize=(6,4), title='Profitability by Category')\n",
    "plt.ylabel('Proportion of Profitable Orders')\n",
    "plt.show()"
   ]
  },
  {
   "cell_type": "markdown",
   "id": "2ab3b680-a65d-4876-80d2-0387b8e2dd78",
   "metadata": {},
   "source": [
    "**Observation:** Some product categories consistently show lower profitability.\n",
    "\n",
    "**Recommendation:**\n",
    "Audit pricing strategy and cost structure for low-performing categories."
   ]
  },
  {
   "cell_type": "markdown",
   "id": "10774c22-5427-45e4-915e-6362695399ea",
   "metadata": {},
   "source": [
    "#### Insight 4: Regional Profitability Varies"
   ]
  },
  {
   "cell_type": "code",
   "execution_count": null,
   "id": "735f0b05-4969-4a44-96ae-5e0ad232022a",
   "metadata": {},
   "outputs": [],
   "source": [
    "region_profit = df.groupby('Region')['Profitable'].mean().sort_values()\n",
    "\n",
    "region_profit.plot(kind='bar', figsize=(6,4), title='Profitability by Region')\n",
    "plt.ylabel('Proportion of Profitable Orders')\n",
    "plt.show()"
   ]
  },
  {
   "cell_type": "markdown",
   "id": "c3b0b4d3-bc2b-4882-ae77-ef9029fad33f",
   "metadata": {},
   "source": [
    "**Observation:** Certain regions (e.g. South/West) may perform better.\n",
    "\n",
    "**Recommendation:**\n",
    "Focus marketing & logistics efforts in profitable regions. Re-evaluate strategy in loss-prone regions."
   ]
  },
  {
   "cell_type": "markdown",
   "id": "e365c0cd-8169-4cc9-8fb2-55bc48953350",
   "metadata": {},
   "source": [
    "### Final Business Suggestions:\n",
    "1. **Limit high discounts** to prevent revenue loss.\n",
    "2. **Speed up shipping** to improve customer satisfaction and profitability.\n",
    "3. **Focus on high-margin categories** and audit the low-performing ones.\n",
    "4. **Invest in profitable regions** and reconsider strategy in weak areas."
   ]
  }
 ],
 "metadata": {
  "kernelspec": {
   "display_name": "Python 3 (ipykernel)",
   "language": "python",
   "name": "python3"
  },
  "language_info": {
   "codemirror_mode": {
    "name": "ipython",
    "version": 3
   },
   "file_extension": ".py",
   "mimetype": "text/x-python",
   "name": "python",
   "nbconvert_exporter": "python",
   "pygments_lexer": "ipython3",
   "version": "3.12.9"
  }
 },
 "nbformat": 4,
 "nbformat_minor": 5
}
